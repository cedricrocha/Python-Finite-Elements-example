{
  "nbformat": 4,
  "nbformat_minor": 0,
  "metadata": {
    "colab": {
      "provenance": []
    },
    "kernelspec": {
      "name": "python3",
      "display_name": "Python 3"
    },
    "language_info": {
      "name": "python"
    }
  },
  "cells": [
    {
      "cell_type": "markdown",
      "source": [
        " Código para resolver um problema simples de transmissão de calor, unidimensional, pelo método dos elementos fintos (problema do livro do Fish & Belytschko). Importamos as bibliotecas de algebra matricial e de gráficos\n",
        "\n",
        "\n",
        " ![image.png](data:image/png;base64,iVBORw0KGgoAAAANSUhEUgAAAZgAAABiCAYAAABtRcWeAAATvklEQVR4Ae2de1AUV77HtzZbdff6z2Zra+8fibvGRBGCigm3tjSauF5jXIzGGBM1JlFBjRjFa7xxI7oRH6iIiqJoxCcqooKCiiAxSnyhPFzXFyqFyGOBEYIMGUCYMJPvrTM6MsAM9ECPdM98p+pbM9Nz5szvfM5v+tt9uvv0r8AHCZAACZAACTiAwK8cUCerJAESIAESIAHQYJgEJEACJEACDiFAg3EIVlZKAiRAAiRAg2EOkAAJkAAJOIQADcYhWFkpCZAACZAADYY5QAIkQAIk4BACNBiHYGWlJEACJEACNBjmAAmQAAmQgEMI0GAcgpWVkgAJkAAJ0GCYAyRAAiRAAg4hQINxCFZWSgIkQAIkQINhDpAACZAACTiEAA3GIVhZKQmQAAmQAA2GOUACJEACJOAQAjQYh2BlpSRAAiRAAjQY5gAJkAAJkIBDCNBgHIKVlZIACZAACTjYYPSoyMvGzRs3mupmNgqrjKRPAiRAAiTgxAQcbDBG1GtOYdFf3fD2vL1ISkpCcuIRRAX74uuYctBinDiz2DQSIAGXJ+BggxF8a3BkqifGbs6DwYzbUII7t3+kwZh58JkESIAEnJDAMzCY2pYG44Qg2SQSIAESIIGmBGgwTXnwHQmQAAmQgEwEOtVgjCUXcXD/EcTt24vY44cRnXBFpmaxGhIgARIggc4m0IkGY0Tp2SSkP7yNkI8CcKpOi1OJZzubB3+fBEiABEhAJgIONhgjtDlJ+McwNwyauRfXy/QtwjYWbsJHfoeha/EJF5AACZAACaiZgIMNpm005bsnYuKu8rYLsgQJkAAJkICqCHSywegQO2Uswgt4RYyqsobBkgAJkIAEAp1oMA2ouL4JY16fhANFtRJCZRESIAESIAE1EehEg1ETJsZKAiRAAiRgLwEajL3EWJ4ESIAESEASgU4zmIMHDkCj0UgKkoVIgARIgATUR6DTDObqP69iUeBC9RFjxCRAAiRAApIIdJrBiOhmzpiBgoICSYGyEAmQAAmQgLoIdKrB3M7OxldfzlMXMUZLAiRAAiQgiUCnGoyIcO6cOcjJyZEULAuRAAmQAAmoh0CnG8z9vDzMnvmFeogxUhIgARIgAUkEOt1gRJQL5v8d169dkxQwC5EACZAACaiDgCIMpqS4GNP9pqqDGKMkARIgARKQREARBiMiXRq0BBnp6ZKCZiESIAESIAHlE1CMwfxYXo4pn03CL7/8onxqjJAESIAESKBNAooxGBFpaEgIzqb+0GbQLEACJEACJKB8AooyGK1Wi08mfAyjkdP3Kz91GCEJkAAJtE5AUQYjQo3YuBHJSUmtR81PSYAESIAEFE9AcQZTXV2Nj8eNh8FgUDw8BkgCJEACJGCbgOIMRoS6c/sOHImLsx01PyEBEiABElA8AUUaTH1dPcZ/+BH0er3iATJAEiABEiAB6wQUaTAi1AP79yN67z7rUXNpUwL6B8jL11ksq0NFuQ7mUyX0JfdRVGfxMV+SgAQC+gd5eJpWBh2KbmfjfkXjRh/zSgJEFy+iWIP5+eefMeGjcXj06JGLd1HrzTdqvkd48B5cqRR20oDii9swd+hL6D71BJ56Su1txK4MQXxeQ+uV8VMSMBEwQvN9OIL3XIFIK0NBLD737oauL/4e//Hbrhi+6hKqRDnmFfOlDQKKNRgR99GEBGyLjGyjCS78sf4mwsZPR4zGvK8CNOhrcHpmd7zoZ2EwApE2BV9+EIhzljs6LoyOTbdNQH8zDOOnx+BxWtXidMjXiL5bKxwFt7eNwYtdBmL13Scn4TCvbIPkJ1C0wYgzycQZZTod14otc9WIou3voa//qcY9FVOhBmQt7NvSYNCA60EDMHD5Dbj6fkxtwWUkHk3BNY2rk2iZVTAWYft7feF/yrz/W4Piooqnw62oO4GpXd0x76J5qIx5ZYUiFz0hoGiDETF+l/Idwtevl9hh1bh37S60jRv0Er+nwmKGXIQO+gPG7DMNVlg0oAFZi7ysGAxQn/I5urnPw9N1g8W3XOWl/uomTJs8B/P9h6HHn4ZjYzZNxrLvDbmhGPSHMWiRVuZClfsw1mMqEqvNC5hXjST4qjkBxRuMmJvs048norKysnnsTd83lOBS2Pvo5r0Y11xhnaHdg/d/52axJWnGYdtgDDmr0L9Lf6wyD2+Yv+Iyzwbkp2eg2DS6U4fU2e4YvCYPvOKqMQG0e97H79xsbYQYkL/1Y3wYkdOEmbPmVX1RBhIPJ+Eq93QbE8TOV4o3GNGeC+fPY9WKlW02zViyEe/8xTUMxpATggFd+mFxCze1bTDGB1sw7D9fRsBZ8/BGm0iduIAelxcMg39yjRO30d6mGZATMgBd+ln/Dxnyo/HllzHIb+bIzphXhpxYLFmwFMFz30Z39wCcZprYm0ym8qowGLEX4zt5Mh48eGAKuvjf/7baWGNpBP7mIgZjLFiPwV08sSCj+e5aKwZTGoGhXTzw93QaDHSpWBwQiZxmK0urieUyC40oWD8YXTwXoEVaVV7A+sBvkWUxNGbGIv53zpZXeq0WJk9puI4lgz/A7nJza/lsDwFVGIxo0JWsLHwxwx9B//gGvd09rLbRlQwG9ScxvesL8E00H4w1I3lykN83sdnBf6DhxhJ4Pz8KuyrMZV302ViGM+FhSCpxhYN19vVx/cnp6PqCL5qkVVUGtgSuRWrFY14G7U0cTsh4WrEz51XtjS1YuCEL4hw6PuwnoAqD0f30E9atWYtXur30VNaa6lIGAx2O+76EN0PvWYyHG6G5EoeFQ36P377mj6i0wiaYdIcm4M8jIlHs0uvVKmTuCUf83XoARuiKi0zXejQB5cpvdMfh+9KbCL33ZNeuLgurh/wRv3nuOTz3RL/+9fMYvfvxaIJA5ax5pc87im8+6IM/dh2N7WYerpwb7Wi74g1GTN0/c8aMp8ZiNhlrk2G6lsGIPZJVeHt0BAokGUYVjk0bgrmpVsY42pE46vxKNdJXDkG3rh7w8vKCV59e8A44+XgoRJ0NckDUDbix6m2MjihoPDW51V9x9rzS4fSsVzF0Q5FEHq3CcrkPFW8wokeEmWwKD0fP7i8/NZr6erEFavEwluPGPj94/HkMwjNKLT5w5pd6ZG8LQGBCaZvJX5MVhoAV56F1ZhxsmzwE9NnYFhCIhNK2t1ycP6+MKIv8DFPjeS1ee5JLFQZjbtiVK1fw5hsDTSZTU8PTOh5zqUNuSjQSb9n+A+jv/4D98Vl42Pb6woyaz65OoC4XKdGJaCWt4Lx5ZUDujmkYG7AGO3dFIHjt0RZnzrl6ekhtv6oMRjTqp6qfMGfWbNOz1EayHAmQAAnYRaC+DLk3buJeWfOTaOyqxeULq85gRI+J05aF+CABEiABElAuAVUaTHOcYmr/iI2bZNHmTRGQQ1siNkMufbt5C+TQ1i1bIJciv/0Wcmnb1q2QRZGRpslRxQSpHdX2yG2QSzu2bYccEjfik0u7duyEXNq9cyfkUNSuXZBNu3cjSgbtiYpCSUlJ81UO30skoGqDORwbhyFvvQW3l19Bv959MGXSJKwNDe2w1qxeDTkUGhICubR6VQjkUMjKVZBLYnYF2RS8Aqtk0MrgYLSmSZ98Ai/P3qYTRl7r0xe+kybZLL9i+XLIpeBlyyCHli9dCrm0bMlSyKWlQUsgixYHYalMWvLNYrRHixYEYtSId+HR082UJ++9+y7E8V8+7CegWoNZszrUdMGl+bRl8SwuwBTJyQcJWCOwbMkSqzkTtnadteJc5oIExF10R7870mQulusWz17uuHjhQoeI3M/Lw4xp03Ho4EGUl7VjagBjCVLDpmGk3w7klp/DijEjEHRB2bNyqNJgNBoNXnXr9fSUZctEEMuLioo6lAj8svMRKCgosJkzYku1rKzM+RrNFtlNQIyKiA1Vy3WK+fVbbwy0uz7LL+Tk5DSpd8x7oxGxcSPu3L4t/ZiysRARPv0xMSQGmYUaWNxg1PKnFPPaIQZz9Z9XcSntkkSl4VKaNKVdvAghMQTi4ebWpLPMSeDeoyeWBgWZyoktDqkSE2pK1flz52CPzp09C6k6+8NZSFbqDzgrUT+cSYU9Sj1zBlJ15vRpSNXp77+HPfr+1ClI1anvvoMtLfx6AXq90sNqzgiDWbI4yHRrCHF7CKs6mYLvJCol+SSk6mRyMqQqOSkJ9ijpxAlI1YnEREhV4vHjsEvHjiNRoo4fPQapOpZwFFIlbl4oRT7vDLeaI2L9ItYtO7ZvR0J8fBPFHzkCKRJD3Ob1VPPnQQPeME2DJdYTLa7xa2IXBtxaNhA+m9u+9q3J1zrpjUMMRhx0l+Ogn6065gbMMXV2804S78VKZPbMLzp2sFCGg4O2DjCKg4aO0t49e+BI7duzF45S9N59cKTEqe22DMa9pxu++nIe9u+LbpdioqPhKIn/kkMVE4MDDtLBAwfgSImhJrn1t2Hv2DQBYTCR325F7MFD7ZI4nmdtnSWWvTN0qOnYaFZmpunCcpt+oMvEoeUTMNA3AboqLXQKv7bNIQZjE45MH4jxS49WhshKiotl+iVW4ywExAzcrQ2rVvz4o7M0le3oAAGxl9Pbw/oQ2ZA33+pAzYDlEJmYleSTCRNMZwXm5+dLqLcGKYvGwi8oFrcqT2C6tw8C465D6RM/qdJgRG+IU4mbj5WKA3HiTJaHDx+2W+LGZnJJq9VCDlVVVUEuiQtV5ZKYhFQW6XSm22KLW2N3VNXV1bAlMbTq6e7eZCtS5Ez4+g0tviNmipBLtbW1kEuPHj2CHKqrq4Ncqq+rhyyqrzcND4khoo5KHKxvj0SffzjmgxYbI57uHshIT5dgBLaLCCOZO2eOabhQ/AftfegrNCh/MkNWdcVDNJssy97qnkl51RqMoCPGo0e8M9xkNGKLoI/Hq/D26tdhvd7XC3JJnAorh/r16QO55NW7D2STZ2/Tab/i1N+OqO+rnpBLIg9sSRxv6fFSd5PJiGfx3lZZsQEjl4SRySWxJyaHxHFM2dTTzcRS8OyIxDCUXBJDou2RuOzBnCNi+Gr0yFG4efPmM1khO9uPqNpgnK0z2B4SIAEScCYCNBhn6k22hQRIgAQURIAGo6DOYCgkQAIk4EwEaDDO1JtsCwmQAAkoiAANRkGdwVBIgARIwJkI0GCcqTfZFhIgARJQEAGXNJj64gwkJWegiPcSUlAqKiiU2gJcTjyKlGsaNCgoLIaiXAL6vPO4kMdsad5DLmcwDbci4DtrH3Lzj+CrqRtwTQ1XKzXvNb53HAH9VWyaNhlz5vtjWI8/YfjGbJqM42g7R811mVj+xn9h1K4q52iPjK1wMYOpwuFP+2Bqoth1qUfKjL4Yt/+hjDhZldoJGPLTkVFsMDWjLnU23AevQd7jt2pvGuN3CIEapG9ejm8m9cVoGkwLwoo2GGNJKsKmjYTfjlyUn1uBMSOCYPP2B8YyXIxai9DQ0CZaG3URZeYJ4fTn8L/uf8GyW2JX1oA7KwbAbVZqCyhcoB4C9uSIsewiotY2zY/Q0LWIumh9qn795QUY5p+MGvXgYKQ2CRhRkhqGaSP9sCO3HOdWjMGIoAuwdTcVqbmiS4vAmsRCpM3vR4Oxwl7RBiPiNRZGwKf/RITEZKJQU2FKCGPldcQn/gt2H0KpO4YpLw7GunzhOAbcCx2EFz5LsIKFi9REoEWOVN9CfFgw1sVdh7bdDdEhdXEAInO4+9JuhIr7ohGFET7oPzEEMZmF0IibqdTewbH1wdhw/C5q7Y236jwiNpxCuVGPyzQYq/QUbzAw3MKygT7YXGreDTHg4c1V8PlgOyotmyRpDyYNX/Xuj+XZYqXRgH8t9obn/6VZ1sLXaiTQJEcakH1sNxIz0rB1/ADMTGk8yCZ1qxQwouxMOMKSSmDOOjViYcwtCRhuLcNAn814vDox4kHWWWTlZSJ4+Djsqmgs33auGHAnZARe+59RGDVqJAa7PY8XvMdh7SVb+0SNdbvSK8UbjC7zEJZPGAjfBB2qtLrHf/jaWEyesKOpwUjqtVqcnPE6Jh0Rk1xXI+7T1+GfwgEQSegUXMhqjgiT2PY55p1pNBipTajK3IPw+Lum2WqNumIUVdJmpLJTdjkdMg8tx4SBvkjQVUFrvplK/R1ErYnBfTt3Vhuqy6EpLUVpaRGSZ/WGT/g9aO1PN2Uj62B0yjWYmhQsGuuHoNhbqDwxHd4+gYi7/uTuB+02GMCQvx9f+C7FoYPB8J8fh0I7k6qDvPl1OQm0liMNd7Fv3UG7D9BXp6/EkG5d4eHlBS+vPujlHYCT3AaRs9c6pa6alEUY6xeE2FuVODHdGz6BcXi8OqlDTkIQ3v9vH4Rlt/c0Yw6R2epU5RoM9KjQlD+550E1Kh5abBp0wGBMIGpKkZtnrtsWGi5XPgEbOWKsRFbsQVyu4J6H8vvwGUWor4Cm8WYqsFydiAh0h/wxK97uo7rPKHj1/oyCDcYWVCMqb6zAsLcCuQKxhcill1chLXgU/jpqEqZMnojZO27zOhaXzofWGt+AG9ErsfHQcRzYvB+Xda2V5WftIaBCg2lPM/kdEiABEmhJwFitQX6ROu4O2TJ65S+hwSi/jxghCZAACaiSAA1Gld3GoEmABEhA+QRoMMrvI0ZIAiRAAqokQINRZbcxaBIgARJQPgEajPL7iBGSAAmQgCoJ0GBU2W0MmgRIgASUT4AGo/w+YoQkQAIkoEoCNBhVdhuDJgESIAHlE6DBKL+PGCEJkAAJqJIADUaV3cagSYAESED5BP4fLRTnSaP+YmQAAAAASUVORK5CYII=)\n",
        "\n"
      ],
      "metadata": {
        "id": "PVA4WjN3bJv7"
      }
    },
    {
      "cell_type": "code",
      "execution_count": 1,
      "metadata": {
        "id": "HIrKlk1VAHSL"
      },
      "outputs": [],
      "source": [
        "import numpy as np\n",
        "import matplotlib.pyplot as plt"
      ]
    },
    {
      "cell_type": "markdown",
      "source": [
        "\n",
        "Parâmetros do cálculo: comprimento total da barra,\n",
        "área da seção transversal, constante elástica, comprimento dos elementos, módulo de Young. A dimensão do problema é igual ao número de nós. Exemplo 2 elementos lineares, 3 nós. 4 elementos lineares, 5 nós"
      ],
      "metadata": {
        "id": "1w_7VOZ5A5Vo"
      }
    },
    {
      "cell_type": "code",
      "source": [
        "#Quantidade de nós. deve ser modificado pelo usuário\n",
        "nos=10\n",
        "#Comprimento total da barra\n",
        "comp=4\n",
        "#Seção transversal\n",
        "A=0.1\n",
        "#Condutividade térmica\n",
        "k=2\n",
        "#Temperatura fixa no primeiro nó (extremo esquerdo engastado)\n",
        "T0=0\n",
        "#Fluxo de calor no último nó (extremo direito)\n",
        "q=5\n",
        "#Fonte interna de calor\n",
        "s=5\n",
        "\n",
        "\n",
        "#A partir daqui, nada deve ser modidificado.Estrutura 1D - elementos = nos -1\n",
        "elem=nos-1\n",
        "#Tamanho dos elementos\n",
        "l=comp/(elem)\n",
        "#Condutividade térmica dos elementos\n",
        "k1=A*k/l\n",
        "print(elem, l, k1)"
      ],
      "metadata": {
        "colab": {
          "base_uri": "https://localhost:8080/"
        },
        "id": "YQSm3blSFCS8",
        "outputId": "523a4e8c-961e-44a9-f1b9-941d4d0f04f2"
      },
      "execution_count": 73,
      "outputs": [
        {
          "output_type": "stream",
          "name": "stdout",
          "text": [
            "9 0.4444444444444444 0.45000000000000007\n"
          ]
        }
      ]
    },
    {
      "cell_type": "markdown",
      "source": [
        "Se quiséssemos escrever a matriz manualmente, no caso de dim=3, seria assim"
      ],
      "metadata": {
        "id": "zwNJp4ltb0wu"
      }
    },
    {
      "cell_type": "code",
      "source": [
        "#K=np.array([[0.1,-0.1,0], [-0.1,0.2,-0.1], [0.0,-0.1,0.1]])\n",
        "#print(K)"
      ],
      "metadata": {
        "id": "xUjpUm10AeVt"
      },
      "execution_count": 74,
      "outputs": []
    },
    {
      "cell_type": "markdown",
      "source": [
        "Automatizando Matriz Rigidez. Método direto"
      ],
      "metadata": {
        "id": "wMSvogcpDQXM"
      }
    },
    {
      "cell_type": "code",
      "source": [
        "K1=np.identity(nos,float)\n",
        "\n",
        "for i in range(nos) :\n",
        "  for j in range (nos) :\n",
        "    if (i==j and (i==0 or i==(nos-1))) :\n",
        "      K1[i,j]=k1\n",
        "    elif abs(i-j)==1 :\n",
        "      K1[i,j]=-k1\n",
        "    elif (i==j and (i!=0 or i!=(nos-1)) ) :\n",
        "      K1[i,j]=2*k1\n",
        "\n",
        "print(K1)"
      ],
      "metadata": {
        "colab": {
          "base_uri": "https://localhost:8080/"
        },
        "id": "z50GwblKDV4T",
        "outputId": "a61fa164-a45f-448a-9236-ba03612a7099"
      },
      "execution_count": 75,
      "outputs": [
        {
          "output_type": "stream",
          "name": "stdout",
          "text": [
            "[[ 0.45 -0.45  0.    0.    0.    0.    0.    0.    0.    0.  ]\n",
            " [-0.45  0.9  -0.45  0.    0.    0.    0.    0.    0.    0.  ]\n",
            " [ 0.   -0.45  0.9  -0.45  0.    0.    0.    0.    0.    0.  ]\n",
            " [ 0.    0.   -0.45  0.9  -0.45  0.    0.    0.    0.    0.  ]\n",
            " [ 0.    0.    0.   -0.45  0.9  -0.45  0.    0.    0.    0.  ]\n",
            " [ 0.    0.    0.    0.   -0.45  0.9  -0.45  0.    0.    0.  ]\n",
            " [ 0.    0.    0.    0.    0.   -0.45  0.9  -0.45  0.    0.  ]\n",
            " [ 0.    0.    0.    0.    0.    0.   -0.45  0.9  -0.45  0.  ]\n",
            " [ 0.    0.    0.    0.    0.    0.    0.   -0.45  0.9  -0.45]\n",
            " [ 0.    0.    0.    0.    0.    0.    0.    0.   -0.45  0.45]]\n"
          ]
        }
      ]
    },
    {
      "cell_type": "markdown",
      "source": [
        "O determinante nulo indica que as condições de contorno do problema não foram definidas"
      ],
      "metadata": {
        "id": "_0DFlTHBcARm"
      }
    },
    {
      "cell_type": "code",
      "source": [
        "det=np.linalg.det(K1)\n",
        "print(det)\n",
        "u,v=np.linalg.eig(K1)\n",
        "print(\"Autovalores\",u),\n",
        "print(\"Autovetores\",v)"
      ],
      "metadata": {
        "colab": {
          "base_uri": "https://localhost:8080/"
        },
        "id": "TyF7tftSBYdA",
        "outputId": "90a8c95c-7709-4856-bfc9-ba2928402344"
      },
      "execution_count": 76,
      "outputs": [
        {
          "output_type": "stream",
          "name": "stdout",
          "text": [
            "0.0\n",
            "Autovalores [1.75595086e+00 1.62811529e+00 1.42900673e+00 1.17811529e+00\n",
            " 9.00000000e-01 6.21884705e-01 3.70993273e-01 2.79830827e-17\n",
            " 4.40491353e-02 1.71884705e-01]\n",
            "Autovetores [[-6.99596196e-02 -1.38196601e-01 -2.03030724e-01  2.62865556e-01\n",
            "  -3.16227766e-01  3.61803399e-01  3.98470231e-01  3.16227766e-01\n",
            "   4.41707654e-01  4.25325404e-01]\n",
            " [ 2.03030724e-01  3.61803399e-01  4.41707654e-01 -4.25325404e-01\n",
            "   3.16227766e-01 -1.38196601e-01  6.99596196e-02  3.16227766e-01\n",
            "   3.98470231e-01  2.62865556e-01]\n",
            " [-3.16227766e-01 -4.47213595e-01 -3.16227766e-01  7.27267097e-16\n",
            "   3.16227766e-01 -4.47213595e-01 -3.16227766e-01  3.16227766e-01\n",
            "   3.16227766e-01 -2.43403291e-16]\n",
            " [ 3.98470231e-01  3.61803399e-01 -6.99596196e-02  4.25325404e-01\n",
            "  -3.16227766e-01 -1.38196601e-01 -4.41707654e-01  3.16227766e-01\n",
            "   2.03030724e-01 -2.62865556e-01]\n",
            " [-4.41707654e-01 -1.38196601e-01  3.98470231e-01 -2.62865556e-01\n",
            "  -3.16227766e-01  3.61803399e-01 -2.03030724e-01  3.16227766e-01\n",
            "   6.99596196e-02 -4.25325404e-01]\n",
            " [ 4.41707654e-01 -1.38196601e-01 -3.98470231e-01 -2.62865556e-01\n",
            "   3.16227766e-01  3.61803399e-01  2.03030724e-01  3.16227766e-01\n",
            "  -6.99596196e-02 -4.25325404e-01]\n",
            " [-3.98470231e-01  3.61803399e-01  6.99596196e-02  4.25325404e-01\n",
            "   3.16227766e-01 -1.38196601e-01  4.41707654e-01  3.16227766e-01\n",
            "  -2.03030724e-01 -2.62865556e-01]\n",
            " [ 3.16227766e-01 -4.47213595e-01  3.16227766e-01 -6.81469030e-16\n",
            "  -3.16227766e-01 -4.47213595e-01  3.16227766e-01  3.16227766e-01\n",
            "  -3.16227766e-01  1.47691831e-16]\n",
            " [-2.03030724e-01  3.61803399e-01 -4.41707654e-01 -4.25325404e-01\n",
            "  -3.16227766e-01 -1.38196601e-01 -6.99596196e-02  3.16227766e-01\n",
            "  -3.98470231e-01  2.62865556e-01]\n",
            " [ 6.99596196e-02 -1.38196601e-01  2.03030724e-01  2.62865556e-01\n",
            "   3.16227766e-01  3.61803399e-01 -3.98470231e-01  3.16227766e-01\n",
            "  -4.41707654e-01  4.25325404e-01]]\n"
          ]
        }
      ]
    },
    {
      "cell_type": "markdown",
      "source": [
        "Se invertermmos a matriz singular, teremos uma mensagem de erro"
      ],
      "metadata": {
        "id": "mUT8BKUxcNOt"
      }
    },
    {
      "cell_type": "code",
      "source": [
        "#M=np.linalg.inv(K1)\n",
        "#print(M)"
      ],
      "metadata": {
        "id": "DCaT8HKdCJKc"
      },
      "execution_count": 77,
      "outputs": []
    },
    {
      "cell_type": "markdown",
      "source": [
        "Impondo BC. No caso, apenas o nó 1 está engastado.  Cortamos a linha 1 e a coluna 1 da matriz K1, pois o primeiro nó está fixo (engastado). Note que agora o determinante da submatriz livre não é mais nulo e ela é invesível\n",
        "\n",
        "\n"
      ],
      "metadata": {
        "id": "gZTqwNEXroSR"
      }
    },
    {
      "cell_type": "code",
      "source": [
        "S=np.identity(nos-1,float)\n",
        "for i in range(nos-1) :\n",
        "  for j in range(nos-1) :\n",
        "    S[i,j]=K1[i+1,j+1]\n",
        "\n",
        "print(S)\n",
        "det2=np.linalg.det(S)\n",
        "print(det2)"
      ],
      "metadata": {
        "colab": {
          "base_uri": "https://localhost:8080/"
        },
        "id": "g02zlHVKCdRU",
        "outputId": "2052e71d-f337-4223-b342-0e8622676d55"
      },
      "execution_count": 78,
      "outputs": [
        {
          "output_type": "stream",
          "name": "stdout",
          "text": [
            "[[ 0.9  -0.45  0.    0.    0.    0.    0.    0.    0.  ]\n",
            " [-0.45  0.9  -0.45  0.    0.    0.    0.    0.    0.  ]\n",
            " [ 0.   -0.45  0.9  -0.45  0.    0.    0.    0.    0.  ]\n",
            " [ 0.    0.   -0.45  0.9  -0.45  0.    0.    0.    0.  ]\n",
            " [ 0.    0.    0.   -0.45  0.9  -0.45  0.    0.    0.  ]\n",
            " [ 0.    0.    0.    0.   -0.45  0.9  -0.45  0.    0.  ]\n",
            " [ 0.    0.    0.    0.    0.   -0.45  0.9  -0.45  0.  ]\n",
            " [ 0.    0.    0.    0.    0.    0.   -0.45  0.9  -0.45]\n",
            " [ 0.    0.    0.    0.    0.    0.    0.   -0.45  0.45]]\n",
            "0.0007566806425781292\n"
          ]
        }
      ]
    },
    {
      "cell_type": "code",
      "source": [
        "INV=np.linalg.inv(S)\n",
        "print(INV)\n",
        "print(np.linalg.det(INV))"
      ],
      "metadata": {
        "colab": {
          "base_uri": "https://localhost:8080/"
        },
        "id": "0YyBbsO5JZB4",
        "outputId": "52def5c2-ac0c-461b-f65f-6f51b1708d1e"
      },
      "execution_count": 79,
      "outputs": [
        {
          "output_type": "stream",
          "name": "stdout",
          "text": [
            "[[ 2.22222222  2.22222222  2.22222222  2.22222222  2.22222222  2.22222222\n",
            "   2.22222222  2.22222222  2.22222222]\n",
            " [ 2.22222222  4.44444444  4.44444444  4.44444444  4.44444444  4.44444444\n",
            "   4.44444444  4.44444444  4.44444444]\n",
            " [ 2.22222222  4.44444444  6.66666667  6.66666667  6.66666667  6.66666667\n",
            "   6.66666667  6.66666667  6.66666667]\n",
            " [ 2.22222222  4.44444444  6.66666667  8.88888889  8.88888889  8.88888889\n",
            "   8.88888889  8.88888889  8.88888889]\n",
            " [ 2.22222222  4.44444444  6.66666667  8.88888889 11.11111111 11.11111111\n",
            "  11.11111111 11.11111111 11.11111111]\n",
            " [ 2.22222222  4.44444444  6.66666667  8.88888889 11.11111111 13.33333333\n",
            "  13.33333333 13.33333333 13.33333333]\n",
            " [ 2.22222222  4.44444444  6.66666667  8.88888889 11.11111111 13.33333333\n",
            "  15.55555556 15.55555556 15.55555556]\n",
            " [ 2.22222222  4.44444444  6.66666667  8.88888889 11.11111111 13.33333333\n",
            "  15.55555556 17.77777778 17.77777778]\n",
            " [ 2.22222222  4.44444444  6.66666667  8.88888889 11.11111111 13.33333333\n",
            "  15.55555556 17.77777778 20.        ]]\n",
            "1321.5614933571544\n"
          ]
        }
      ]
    },
    {
      "cell_type": "markdown",
      "source": [
        "Apenas para verificação. O produto de uma matriz pela sua inversa deve dar a matriz identidade (números em potências 1o^(-16 são numericamente zero)"
      ],
      "metadata": {
        "id": "wqptO8svc_XM"
      }
    },
    {
      "cell_type": "code",
      "source": [
        "I=INV@S\n",
        "print(I)"
      ],
      "metadata": {
        "colab": {
          "base_uri": "https://localhost:8080/"
        },
        "id": "APwse6c6JxRn",
        "outputId": "0a075cd9-1041-4e91-d20f-11601f8af079"
      },
      "execution_count": 80,
      "outputs": [
        {
          "output_type": "stream",
          "name": "stdout",
          "text": [
            "[[ 1.00000000e+00  1.85037171e-16 -1.92438658e-16 -1.48029737e-17\n",
            "   1.40628250e-16 -6.36527867e-16  1.18423789e-16  1.85037171e-16\n",
            "  -4.07081776e-16]\n",
            " [ 5.92118946e-17  1.00000000e+00 -3.84877315e-16 -2.96059473e-17\n",
            "   2.81256500e-16 -1.27305573e-15  2.36847579e-16  3.70074342e-16\n",
            "  -8.14163551e-16]\n",
            " [-7.40148683e-17  2.22044605e-16  1.00000000e+00 -8.88178420e-17\n",
            "  -2.22044605e-16 -7.10542736e-16  5.32907052e-16  3.99680289e-16\n",
            "  -1.28785871e-15]\n",
            " [ 1.48029737e-17 -3.99680289e-16  4.73695157e-16  1.00000000e+00\n",
            "   1.18423789e-16 -8.58572472e-16 -5.92118946e-17  6.51330841e-16\n",
            "  -1.53950926e-15]\n",
            " [-7.40148683e-17 -8.88178420e-17  2.96059473e-16 -1.00660221e-15\n",
            "   1.00000000e+00 -5.62512999e-16 -6.51330841e-16  5.92118946e-17\n",
            "  -1.83556873e-15]\n",
            " [ 1.48029737e-17 -2.66453526e-16  9.17784367e-16 -2.16123415e-15\n",
            "   1.24344979e-15  1.00000000e+00 -7.99360578e-16  7.99360578e-16\n",
            "  -1.68753900e-15]\n",
            " [-2.96059473e-17  4.44089210e-17 -5.03301104e-16 -5.62512999e-16\n",
            "   1.86517468e-15 -2.54611147e-15  1.00000000e+00  7.40148683e-16\n",
            "  -1.62832710e-15]\n",
            " [-7.40148683e-17  1.57772181e-30 -1.48029737e-16  1.48029737e-16\n",
            "   3.15544362e-30 -9.47390314e-16 -1.71714494e-15  1.00000000e+00\n",
            "  -1.65793305e-15]\n",
            " [ 0.00000000e+00  0.00000000e+00  0.00000000e+00  0.00000000e+00\n",
            "   0.00000000e+00 -8.88178420e-16 -8.88178420e-16 -1.77635684e-15\n",
            "   1.00000000e+00]]\n"
          ]
        }
      ]
    },
    {
      "cell_type": "markdown",
      "source": [
        "Source é a matriz coluna dos termos de fonte interna de calor, no exemplo s=5 W/m mas pode ser mudado acima. A matriz de força de corpo para cada elemento será dada pelo produto do interpolador de lagrange por esta matriz\n",
        "\n"
      ],
      "metadata": {
        "id": "Gajwos7DC_Sn"
      }
    },
    {
      "cell_type": "code",
      "source": [
        "#Source=np.array([s,s])\n",
        "#Fce=l/6*np.array([[2,1],[1,2]])@Source.T\n",
        "#print(Fce)"
      ],
      "metadata": {
        "id": "OwXkco_BC-ok"
      },
      "execution_count": 81,
      "outputs": []
    },
    {
      "cell_type": "markdown",
      "source": [
        "Escrevemos as Matrizes de força de corpo, de superfície e total usando matrizes expandidas ao invés de matrizes de junção"
      ],
      "metadata": {
        "id": "wUAGehwYj61-"
      }
    },
    {
      "cell_type": "code",
      "source": [
        "Fc=np.zeros(nos)\n",
        "for i in range(nos):\n",
        "    if i==0 or i==nos-1 :\n",
        "      Fc[i]=l*s/2\n",
        "      print(\"Ciclo\", i)\n",
        "    else :\n",
        "      Fc[i]=l*s\n",
        "\n",
        "Fs=np.zeros(nos)\n",
        "if  i==nos-1 :\n",
        "  Fs[i]=-0.5\n",
        "else :\n",
        "  Fs[i]=0\n",
        "\n",
        "F=Fc+Fs\n",
        "print(Fc,Fs,F)"
      ],
      "metadata": {
        "id": "oyZW-UC0KFon",
        "colab": {
          "base_uri": "https://localhost:8080/"
        },
        "outputId": "4ab7517a-51d5-43bc-c000-c3cb96299521"
      },
      "execution_count": 82,
      "outputs": [
        {
          "output_type": "stream",
          "name": "stdout",
          "text": [
            "Ciclo 0\n",
            "Ciclo 9\n",
            "[1.11111111 2.22222222 2.22222222 2.22222222 2.22222222 2.22222222\n",
            " 2.22222222 2.22222222 2.22222222 1.11111111] [ 0.   0.   0.   0.   0.   0.   0.   0.   0.  -0.5] [1.11111111 2.22222222 2.22222222 2.22222222 2.22222222 2.22222222\n",
            " 2.22222222 2.22222222 2.22222222 0.61111111]\n"
          ]
        }
      ]
    },
    {
      "cell_type": "markdown",
      "source": [
        "Cortamos os termos associados aos nós engastados (no caso, apenas o primeiro)"
      ],
      "metadata": {
        "id": "uqRP3rJjdZgK"
      }
    },
    {
      "cell_type": "code",
      "source": [
        "FL=np.ones(nos-1)\n",
        "#array1d=np.ones(3)\n",
        "#print(array1d)\n",
        "\n",
        "for i in range(nos-1) :\n",
        "  FL[i]=F[i+1]\n",
        "\n",
        "print(FL)"
      ],
      "metadata": {
        "colab": {
          "base_uri": "https://localhost:8080/"
        },
        "id": "acF1lswckQG5",
        "outputId": "1e77cb02-c0e1-4bca-82d6-249c67feed83"
      },
      "execution_count": 83,
      "outputs": [
        {
          "output_type": "stream",
          "name": "stdout",
          "text": [
            "[2.22222222 2.22222222 2.22222222 2.22222222 2.22222222 2.22222222\n",
            " 2.22222222 2.22222222 0.61111111]\n"
          ]
        }
      ]
    },
    {
      "cell_type": "markdown",
      "source": [
        "Multiplicando a inversa da submatriz de rigidez livre, com a matriz de força livre, obtemos os valores da temperatura nos 4 nós livres. A temperatura no nó engastado é dada: zero grau Celsius."
      ],
      "metadata": {
        "id": "5l0KBzUhdhzZ"
      }
    },
    {
      "cell_type": "code",
      "source": [
        "T=INV@FL\n",
        "print(T)"
      ],
      "metadata": {
        "colab": {
          "base_uri": "https://localhost:8080/"
        },
        "id": "Pir2NISMk_nU",
        "outputId": "18c09fda-5e1d-4c66-9e1b-2b7717a54f4b"
      },
      "execution_count": 84,
      "outputs": [
        {
          "output_type": "stream",
          "name": "stdout",
          "text": [
            "[ 40.86419753  76.79012346 107.77777778 133.82716049 154.9382716\n",
            " 171.11111111 182.34567901 188.64197531 190.        ]\n"
          ]
        }
      ]
    },
    {
      "cell_type": "markdown",
      "source": [
        "Para fazer o gráfico, determinamos os pontos das coordenadas dos nós. No caso de dim=5 são 0, 1, 2, 3, e 4  "
      ],
      "metadata": {
        "id": "W1WMMfobe1Fu"
      }
    },
    {
      "cell_type": "code",
      "source": [
        "x1=np.linspace(0,comp,nos)\n",
        "print(x1)"
      ],
      "metadata": {
        "colab": {
          "base_uri": "https://localhost:8080/"
        },
        "id": "rk55VkGomWWC",
        "outputId": "189bf487-6e98-4b5c-dc40-2008d526b47b"
      },
      "execution_count": 85,
      "outputs": [
        {
          "output_type": "stream",
          "name": "stdout",
          "text": [
            "[0.         0.44444444 0.88888889 1.33333333 1.77777778 2.22222222\n",
            " 2.66666667 3.11111111 3.55555556 4.        ]\n"
          ]
        }
      ]
    },
    {
      "cell_type": "markdown",
      "source": [
        "Agora escrevemos a matriz de valores de temperatura, juntando os resultados calculados com o valor prescrito do nó engastado, x=0, T1=0"
      ],
      "metadata": {
        "id": "GVTDhklhfFxd"
      }
    },
    {
      "cell_type": "code",
      "source": [
        "Tc=np.ones(nos)\n",
        "\n",
        "for i in range(nos) :\n",
        "  if i==0 :\n",
        "     Tc[i]=0.0\n",
        "  else  :\n",
        "     Tc[i]=T[i-1]\n",
        "\n",
        "print(Tc)"
      ],
      "metadata": {
        "colab": {
          "base_uri": "https://localhost:8080/"
        },
        "id": "fJtuYz62m7-2",
        "outputId": "8edfb22a-9d32-4417-9ca6-236b3b9daa55"
      },
      "execution_count": 86,
      "outputs": [
        {
          "output_type": "stream",
          "name": "stdout",
          "text": [
            "[  0.          40.86419753  76.79012346 107.77777778 133.82716049\n",
            " 154.9382716  171.11111111 182.34567901 188.64197531 190.        ]\n"
          ]
        }
      ]
    },
    {
      "cell_type": "markdown",
      "source": [
        "Fazemos o gráfico, sobrepondo a solução exata do problema (quadrática) com os resultados que obtivemos"
      ],
      "metadata": {
        "id": "OXzXTPldfhX8"
      }
    },
    {
      "cell_type": "code",
      "source": [
        "#Tex=-12.5*x**2+97.5*x\n",
        "x=np.linspace(0,comp,nos)\n",
        "plt.plot(x,-12.5*x**2+97.5*x,label=\"exata\"),\n",
        "plt.plot(x1,Tc,\"o--r\",label=\"Elementos Finitos\")\n",
        "plt.xlabel(\"distância\")\n",
        "plt.ylabel(\"Temperatura  C\")\n",
        "plt.title(\"Temperatura barra\")\n",
        "plt.legend(loc='upper left', fontsize=10, ncol=2)\n",
        "plt.show()"
      ],
      "metadata": {
        "colab": {
          "base_uri": "https://localhost:8080/",
          "height": 472
        },
        "id": "5bc4TTSVnhh8",
        "outputId": "96c1dec2-ff33-4da7-b326-3db47ea2de98"
      },
      "execution_count": 88,
      "outputs": [
        {
          "output_type": "display_data",
          "data": {
            "text/plain": [
              "<Figure size 640x480 with 1 Axes>"
            ],
            "image/png": "[encoded data removed]"
          },
          "metadata": {}
        }
      ]
    },
    {
      "cell_type": "code",
      "source": [],
      "metadata": {
        "id": "WVQmH6X-1W5Q"
      },
      "execution_count": null,
      "outputs": []
    }
  ]
}